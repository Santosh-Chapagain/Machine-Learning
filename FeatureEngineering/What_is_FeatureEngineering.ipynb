{
 "cells": [
  {
   "cell_type": "markdown",
   "id": "42bfd526",
   "metadata": {},
   "source": [
    "#### What is Feature Engineering? \n",
    "=> Feature Engineering is the process of using domain knowledge to extract features from raw data . These feature can be used to improve the performance of machine learning algorithms. \n"
   ]
  },
  {
   "cell_type": "markdown",
   "id": "c0491100",
   "metadata": {},
   "source": [
    "![Alt text](https://assets-global.website-files.com/620d42e86cb8ec4d0839e59d/6230e9ee021b250dd3710f8e_61ca4fbcc80819e696ba0ee9_Feature-Engineering-Machine-Learning-Diagram.png)\n"
   ]
  },
  {
   "cell_type": "markdown",
   "id": "0e12ac07",
   "metadata": {},
   "source": []
  },
  {
   "cell_type": "code",
   "execution_count": null,
   "id": "2b258bd2",
   "metadata": {
    "vscode": {
     "languageId": "plaintext"
    }
   },
   "outputs": [],
   "source": []
  }
 ],
 "metadata": {
  "language_info": {
   "name": "python"
  }
 },
 "nbformat": 4,
 "nbformat_minor": 5
}
