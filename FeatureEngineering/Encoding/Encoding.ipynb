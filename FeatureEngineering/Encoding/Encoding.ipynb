{
 "cells": [
  {
   "cell_type": "markdown",
   "id": "bcb67f1a",
   "metadata": {},
   "source": [
    "### Encoding"
   ]
  },
  {
   "cell_type": "markdown",
   "id": "4f58e4cc",
   "metadata": {},
   "source": [
    "***Encoding*** = Process of converting categorical (non-numeric) data into numeric form."
   ]
  },
  {
   "cell_type": "markdown",
   "id": "6fff7194",
   "metadata": {},
   "source": [
    "#### We have two types of data i.e:\n",
    "1. ***Nominal Data*** => Categories without any inherent order or ranking.\n",
    "Eg: Gender ,  City  , Hair Color\n",
    "\n",
    "2. ***Ordinal Data*** => Categories with a natural order or ranking. Eg: Education Level , Satisfaction , Shirt Size"
   ]
  },
  {
   "cell_type": "markdown",
   "id": "09567ac9",
   "metadata": {},
   "source": [
    "### Types of encoding\n",
    "1. **Label Encoding** => Assigns a unique integer to each category.\n",
    "\n",
    "*Example*: \n",
    "\n",
    "Gender → Male=0, Female=1, Other=2\n",
    "\n",
    "- ***Best for ordinal data.***\n",
    "\n",
    "- ***Bad for nominal data.***\n",
    "\n",
    "\n",
    "\n",
    "<hr>"
   ]
  },
  {
   "cell_type": "markdown",
   "id": "4c9ee888",
   "metadata": {},
   "source": [
    "2. **One-Hot Encoding** => Creates a new binary column for each category.\n",
    "\n",
    "*Example*: \n",
    "\n",
    "City → [Kathmandu, Delhi, Tokyo]\n",
    "\n",
    "Kathmandu = [1,0,0]  \n",
    "Delhi     = [0,1,0]  \n",
    "Tokyo     = [0,0,1]\n",
    "\n",
    "- ***Best for nominal data.***\n",
    "<hr>"
   ]
  },
  {
   "cell_type": "markdown",
   "id": "61658693",
   "metadata": {},
   "source": [
    "3. **Ordinal Encoding** => Used when categories have an order (rank).\n",
    "\n",
    "*Example* : \n",
    "\n",
    "Education: {\"High School\": 1, \"Bachelor\": 2, \"Master\": 3, \"PhD\": 4}\n",
    "\n",
    "\n",
    "\n"
   ]
  },
  {
   "cell_type": "markdown",
   "id": "c3c83019",
   "metadata": {},
   "source": [
    " "
   ]
  }
 ],
 "metadata": {
  "language_info": {
   "name": "python"
  }
 },
 "nbformat": 4,
 "nbformat_minor": 5
}
